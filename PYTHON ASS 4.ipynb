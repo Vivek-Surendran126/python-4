{
 "cells": [
  {
   "cell_type": "code",
   "execution_count": 26,
   "id": "f5f47e4a-247a-4d05-bedb-f0e63f13b292",
   "metadata": {},
   "outputs": [
    {
     "name": "stdout",
     "output_type": "stream",
     "text": [
      "15\n",
      "7\n",
      "30\n"
     ]
    }
   ],
   "source": [
    "#Creating function with 3 arguments\n",
    "def function(a, b=10, c=None):\n",
    "    if c is None:\n",
    "        print(a + b)\n",
    "    else:\n",
    "        print(a * b * c)\n",
    "\n",
    "function(5)        \n",
    "function(5, 2)     \n",
    "function(5, 2, 3)  \n"
   ]
  },
  {
   "cell_type": "code",
   "execution_count": 32,
   "id": "a158c666-a82b-45f8-8d8c-1fc3ec2f6230",
   "metadata": {},
   "outputs": [
    {
     "name": "stdout",
     "output_type": "stream",
     "text": [
      "['apple', 'watermelon', 'grape']\n"
     ]
    }
   ],
   "source": [
    "#Function that filters the strings\n",
    "def filter_strings(strings):\n",
    "    return [s for s in strings if len(s) >= 5]\n",
    "strings = [\"apple\", \"ban\", \"kiwi\", \"watermelon\", \"grape\"]\n",
    "print(filter_strings(strings)) \n",
    "\n"
   ]
  },
  {
   "cell_type": "code",
   "execution_count": 34,
   "id": "10d4f8b9-f7f2-4039-bc2b-fa0426088e83",
   "metadata": {},
   "outputs": [
    {
     "name": "stdout",
     "output_type": "stream",
     "text": [
      "50\n"
     ]
    }
   ],
   "source": [
    "#usage of function eval()\n",
    "x = 10\n",
    "y = \"x * 5\"\n",
    "result = eval(y)\n",
    "print(result)"
   ]
  },
  {
   "cell_type": "code",
   "execution_count": 42,
   "id": "c74af686-25aa-4fac-98d5-4badd16b5008",
   "metadata": {},
   "outputs": [
    {
     "name": "stdout",
     "output_type": "stream",
     "text": [
      "[2, 3, 5, 7]\n"
     ]
    }
   ],
   "source": [
    "#List out prime numbers from a list\n",
    "def is_prime(n):\n",
    "    if n <= 1:\n",
    "        return False\n",
    "    for i in range(2, n):\n",
    "        if n % i == 0:\n",
    "            return False\n",
    "    return True\n",
    "\n",
    "n = [2, 3, 4, 5, 6, 7, 8, 9, 10]\n",
    "primes = list(filter(is_prime, n))\n",
    "print(primes) \n",
    "\n"
   ]
  },
  {
   "cell_type": "code",
   "execution_count": 46,
   "id": "0d9c27f8-9f06-4ecb-b034-29570b0edd59",
   "metadata": {},
   "outputs": [
    {
     "name": "stdout",
     "output_type": "stream",
     "text": [
      "['APPLE', 'BANANA', 'CHERRY']\n"
     ]
    }
   ],
   "source": [
    "#Converting string to uppercase using map()\n",
    "def to_upper(string):\n",
    "    return list(map(str.upper, string))\n",
    "strings = [\"apple\", \"banana\", \"cherry\"]\n",
    "print(to_upper(strings))  \n",
    "\n"
   ]
  },
  {
   "cell_type": "code",
   "execution_count": null,
   "id": "35323642-ca0c-4d9a-9471-0cffc642ea25",
   "metadata": {},
   "outputs": [],
   "source": [
    "\n"
   ]
  },
  {
   "cell_type": "code",
   "execution_count": null,
   "id": "9fdfe98a-6058-4175-98e0-e626bf79cbae",
   "metadata": {},
   "outputs": [],
   "source": [
    "\n",
    "\n"
   ]
  },
  {
   "cell_type": "code",
   "execution_count": null,
   "id": "de06233d-63c4-4273-a1bd-0be2d2a15975",
   "metadata": {},
   "outputs": [],
   "source": [
    "\n"
   ]
  },
  {
   "cell_type": "code",
   "execution_count": null,
   "id": "6d4cd0ef-a8ae-4146-a27f-ed1a5f00c7e2",
   "metadata": {},
   "outputs": [],
   "source": [
    "\n"
   ]
  },
  {
   "cell_type": "code",
   "execution_count": null,
   "id": "22fc7b93-8d2f-4a65-9bac-74bb8fedbd74",
   "metadata": {},
   "outputs": [],
   "source": []
  },
  {
   "cell_type": "code",
   "execution_count": null,
   "id": "727bbc57-29d9-420a-9f31-632ac5164ec0",
   "metadata": {},
   "outputs": [],
   "source": []
  }
 ],
 "metadata": {
  "kernelspec": {
   "display_name": "Python [conda env:base] *",
   "language": "python",
   "name": "conda-base-py"
  },
  "language_info": {
   "codemirror_mode": {
    "name": "ipython",
    "version": 3
   },
   "file_extension": ".py",
   "mimetype": "text/x-python",
   "name": "python",
   "nbconvert_exporter": "python",
   "pygments_lexer": "ipython3",
   "version": "3.12.7"
  }
 },
 "nbformat": 4,
 "nbformat_minor": 5
}
